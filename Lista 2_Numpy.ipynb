{
  "cells": [
    {
      "cell_type": "markdown",
      "metadata": {
        "id": "VGz5Hi19AHfe"
      },
      "source": [
        "### Numpy"
      ]
    },
    {
      "cell_type": "markdown",
      "source": [
        "**Alunos**:\n",
        "\n",
        "- **Pedro Henrique Paz Sobral**\n",
        "- **Wodson Fernando Oliveira da Silva**\n",
        "- **Roselene Maria Botelho Rocha**"
      ],
      "metadata": {
        "id": "qf80X3coAH2E"
      }
    },
    {
      "cell_type": "code",
      "source": [
        "import numpy as np"
      ],
      "metadata": {
        "id": "5iKVvOzZEq4e"
      },
      "execution_count": 14,
      "outputs": []
    },
    {
      "cell_type": "markdown",
      "metadata": {
        "id": "jOgJ673PAVe9"
      },
      "source": [
        "1 - Utilize o método `numpy.info` para obter informações do método `numpy.add`."
      ]
    },
    {
      "cell_type": "code",
      "execution_count": 15,
      "metadata": {
        "id": "dd9qnc_KAFDd",
        "outputId": "01a375fa-7705-446d-a81e-966858c3e696",
        "colab": {
          "base_uri": "https://localhost:8080/"
        }
      },
      "outputs": [
        {
          "output_type": "stream",
          "name": "stdout",
          "text": [
            "add(x1, x2, /, out=None, *, where=True, casting='same_kind', order='K', dtype=None, subok=True[, signature])\n",
            "\n",
            "Add arguments element-wise.\n",
            "\n",
            "Parameters\n",
            "----------\n",
            "x1, x2 : array_like\n",
            "    The arrays to be added.\n",
            "    If ``x1.shape != x2.shape``, they must be broadcastable to a common\n",
            "    shape (which becomes the shape of the output).\n",
            "out : ndarray, None, or tuple of ndarray and None, optional\n",
            "    A location into which the result is stored. If provided, it must have\n",
            "    a shape that the inputs broadcast to. If not provided or None,\n",
            "    a freshly-allocated array is returned. A tuple (possible only as a\n",
            "    keyword argument) must have length equal to the number of outputs.\n",
            "where : array_like, optional\n",
            "    This condition is broadcast over the input. At locations where the\n",
            "    condition is True, the `out` array will be set to the ufunc result.\n",
            "    Elsewhere, the `out` array will retain its original value.\n",
            "    Note that if an uninitialized `out` array is created via the default\n",
            "    ``out=None``, locations within it where the condition is False will\n",
            "    remain uninitialized.\n",
            "**kwargs\n",
            "    For other keyword-only arguments, see the\n",
            "    :ref:`ufunc docs <ufuncs.kwargs>`.\n",
            "\n",
            "Returns\n",
            "-------\n",
            "add : ndarray or scalar\n",
            "    The sum of `x1` and `x2`, element-wise.\n",
            "    This is a scalar if both `x1` and `x2` are scalars.\n",
            "\n",
            "Notes\n",
            "-----\n",
            "Equivalent to `x1` + `x2` in terms of array broadcasting.\n",
            "\n",
            "Examples\n",
            "--------\n",
            ">>> np.add(1.0, 4.0)\n",
            "5.0\n",
            ">>> x1 = np.arange(9.0).reshape((3, 3))\n",
            ">>> x2 = np.arange(3.0)\n",
            ">>> np.add(x1, x2)\n",
            "array([[  0.,   2.,   4.],\n",
            "       [  3.,   5.,   7.],\n",
            "       [  6.,   8.,  10.]])\n",
            "\n",
            "The ``+`` operator can be used as a shorthand for ``np.add`` on ndarrays.\n",
            "\n",
            ">>> x1 = np.arange(9.0).reshape((3, 3))\n",
            ">>> x2 = np.arange(3.0)\n",
            ">>> x1 + x2\n",
            "array([[ 0.,  2.,  4.],\n",
            "       [ 3.,  5.,  7.],\n",
            "       [ 6.,  8., 10.]])\n"
          ]
        }
      ],
      "source": [
        "# Insira a resposta abaixo.\n",
        "# o método numpy.info se comporta como o help()\n",
        "np.info(np.add)"
      ]
    },
    {
      "cell_type": "markdown",
      "metadata": {
        "id": "Q5efGWHZh56U"
      },
      "source": [
        "2 - Utilize a função *range* do python para criar automaticamente uma lista de números variando de 0 até 15."
      ]
    },
    {
      "cell_type": "code",
      "execution_count": 16,
      "metadata": {
        "id": "GVsgl1nch5SO",
        "outputId": "ac3e9f7c-8252-4789-edad-22b92864ab84",
        "colab": {
          "base_uri": "https://localhost:8080/"
        }
      },
      "outputs": [
        {
          "output_type": "stream",
          "name": "stdout",
          "text": [
            "[0, 1, 2, 3, 4, 5, 6, 7, 8, 9, 10, 11, 12, 13, 14, 15]\n"
          ]
        }
      ],
      "source": [
        "# Insira a resposta abaixo.\n",
        "lista = []\n",
        "for i in range(0,16):\n",
        "  lista.append(i)\n",
        "print(lista)"
      ]
    },
    {
      "cell_type": "markdown",
      "metadata": {
        "id": "dy8uX84YkCEl"
      },
      "source": [
        "3 - Converta a lista criada para um objeto do tipo numpy array."
      ]
    },
    {
      "cell_type": "code",
      "execution_count": 17,
      "metadata": {
        "id": "NlFDOAPykCLL",
        "outputId": "3f6b05ef-e0f7-40e2-9b8a-c480569796ae",
        "colab": {
          "base_uri": "https://localhost:8080/"
        }
      },
      "outputs": [
        {
          "output_type": "execute_result",
          "data": {
            "text/plain": [
              "array([ 0,  1,  2,  3,  4,  5,  6,  7,  8,  9, 10, 11, 12, 13, 14, 15])"
            ]
          },
          "metadata": {},
          "execution_count": 17
        }
      ],
      "source": [
        "# Insira a resposta abaixo.\n",
        "array = np.array(lista)\n",
        "array"
      ]
    },
    {
      "cell_type": "markdown",
      "metadata": {
        "id": "FcO_NxsCvyeU"
      },
      "source": [
        "4 - Crie um  novo array equivalente ao anterior utilizando diretamente os recursos do numpy."
      ]
    },
    {
      "cell_type": "code",
      "execution_count": 18,
      "metadata": {
        "id": "c7_sWaDCvzE4",
        "outputId": "1ba9bf8f-585a-4027-a548-54e82bb55521",
        "colab": {
          "base_uri": "https://localhost:8080/"
        }
      },
      "outputs": [
        {
          "output_type": "stream",
          "name": "stdout",
          "text": [
            "[ 0  1  2  3  4  5  6  7  8  9 10 11 12 13 14 15]\n",
            "[ 0  1  2  3  4  5  6  7  8  9 10 11 12 13 14 15]\n"
          ]
        }
      ],
      "source": [
        "# Insira a resposta abaixo.\n",
        "new_array = np.array(range(16), dtype=int)\n",
        "print(new_array)\n",
        "\n",
        "# ou\n",
        "\n",
        "new_array2= np.arange(0,16)\n",
        "print(new_array2)"
      ]
    },
    {
      "cell_type": "markdown",
      "metadata": {
        "id": "2ziDHfRniNJO"
      },
      "source": [
        "5 - A partir do último array utilizado anteriormente, realize os seguintes procedimentos:\n",
        "\n",
        "1. Exiba o formato atual do array.\n",
        "2. Altere o formato para (4, 4).\n",
        "3. Exiba novamente o formato do array após redimensioná-lo."
      ]
    },
    {
      "cell_type": "code",
      "execution_count": 19,
      "metadata": {
        "id": "XwO6gC8HiNP-",
        "outputId": "522df34f-8530-46d8-a4d0-bac32cdb306c",
        "colab": {
          "base_uri": "https://localhost:8080/"
        }
      },
      "outputs": [
        {
          "output_type": "stream",
          "name": "stdout",
          "text": [
            "(16,)\n",
            "(4, 4)\n"
          ]
        }
      ],
      "source": [
        "# Insira a resposta abaixo.\n",
        "\n",
        "# Passo 1 - shape\n",
        "print(new_array2.shape)\n",
        "\n",
        "# Passo 2 e passo 3.reshape\n",
        "teste = new_array2.reshape((4,4))\n",
        "print(teste.shape)\n",
        "\n",
        "\n"
      ]
    },
    {
      "cell_type": "markdown",
      "metadata": {
        "id": "0nPZclb0iM5g"
      },
      "source": [
        "6 - Compute a média, mediana e o desvio padrão do array resultante da questão anterior."
      ]
    },
    {
      "cell_type": "code",
      "execution_count": 20,
      "metadata": {
        "id": "FU6RU4zdiNAH",
        "outputId": "1b940bb9-3966-44f4-ff39-69929f467237",
        "colab": {
          "base_uri": "https://localhost:8080/"
        }
      },
      "outputs": [
        {
          "output_type": "stream",
          "name": "stdout",
          "text": [
            "sua média: 7.5 \n",
            " sua mediana: 7.5 \n",
            " seu desvio padrão: 4.6097722286464435\n"
          ]
        }
      ],
      "source": [
        "# Insira a resposta abaixo.\n",
        "media = np.mean(teste)\n",
        "mediana = np.median(teste)\n",
        "desvio = np.std(teste)\n",
        "\n",
        "\n",
        "print(f'sua média: {media} \\n sua mediana: {mediana} \\n seu desvio padrão: {desvio}')"
      ]
    },
    {
      "cell_type": "markdown",
      "metadata": {
        "id": "qAoocu6Gpe2e"
      },
      "source": [
        "7 - Crie uma cópia do array atual  e transforme todos os números em valores negativos."
      ]
    },
    {
      "cell_type": "code",
      "execution_count": 21,
      "metadata": {
        "id": "-8nm9e13pe9L",
        "outputId": "24f34378-6d46-401f-827c-66e74ad6f9fb",
        "colab": {
          "base_uri": "https://localhost:8080/"
        }
      },
      "outputs": [
        {
          "output_type": "stream",
          "name": "stdout",
          "text": [
            "[[  0  -1  -2  -3]\n",
            " [ -4  -5  -6  -7]\n",
            " [ -8  -9 -10 -11]\n",
            " [-12 -13 -14 -15]]\n"
          ]
        }
      ],
      "source": [
        "# Insira a resposta abaixo.\n",
        "\n",
        "array_negativo = teste * -1\n",
        "print(array_negativo)"
      ]
    },
    {
      "cell_type": "markdown",
      "source": [
        "8 - Realize os seguintes procedimentos:\n",
        "\n",
        "1. Concatene verticalmente (*row-wise*) o array de números positivos com o array de números negativos.\n",
        "\n",
        "2. Concatene horizontalmente (*column-wise*) o array resultante do passo 1 com ele mesmo.\n",
        "\n",
        "3. Concatene em profundidade três cópias do array resultante do passo anterior, exibindo o formato final.\n",
        "\n",
        "Como fazer?\n",
        "\n",
        "> Analise a documentação das funções `stack`, `hstack` e `dstack` da biblioteca numpy."
      ],
      "metadata": {
        "id": "f5b2e420"
      }
    },
    {
      "cell_type": "code",
      "execution_count": 22,
      "metadata": {
        "id": "1MfG1qNZlmww",
        "outputId": "bc567d65-7e33-4e00-e737-f29bc3ff90bd",
        "colab": {
          "base_uri": "https://localhost:8080/"
        }
      },
      "outputs": [
        {
          "output_type": "stream",
          "name": "stdout",
          "text": [
            " Array positivo \n",
            " \n",
            " [[ 0  1  2  3]\n",
            " [ 4  5  6  7]\n",
            " [ 8  9 10 11]\n",
            " [12 13 14 15]] \n",
            " \n",
            "Array negativo: \n",
            " \n",
            " [[  0  -1  -2  -3]\n",
            " [ -4  -5  -6  -7]\n",
            " [ -8  -9 -10 -11]\n",
            " [-12 -13 -14 -15]]\n",
            "\n",
            " Row Wise  \n",
            " \n",
            " [[  0   1   2   3]\n",
            " [  4   5   6   7]\n",
            " [  8   9  10  11]\n",
            " [ 12  13  14  15]\n",
            " [  0  -1  -2  -3]\n",
            " [ -4  -5  -6  -7]\n",
            " [ -8  -9 -10 -11]\n",
            " [-12 -13 -14 -15]]\n"
          ]
        }
      ],
      "source": [
        "# Insira a resposta abaixo.\n",
        "\n",
        "print(f' Array positivo \\n \\n {teste} \\n ')\n",
        "print(f'Array negativo: \\n \\n {array_negativo}\\n')\n",
        "\n",
        "# Passo 1 -\n",
        " # concatenar (ou seja juntar), uma matriz sob a outra vertical( uma em cima da outra) -\n",
        " # Concatene verticalmente (*row-wise*) o array de números positivos com o array de números negativos.\n",
        "row_wise = np.vstack((teste, array_negativo))\n",
        "\n",
        "print(f' Row Wise  \\n \\n {row_wise}')\n"
      ]
    },
    {
      "cell_type": "code",
      "source": [
        "#Passo 2\n",
        "#Concatene horizontalmente column-wise o array resultante do passo 1 com ele mesmo.\n",
        "column_wise = np.hstack((row_wise, row_wise))\n",
        "print(column_wise)"
      ],
      "metadata": {
        "id": "yGCLrUvFZDmH",
        "outputId": "0d9127cd-def6-4113-9383-1b37edb1ce83",
        "colab": {
          "base_uri": "https://localhost:8080/"
        }
      },
      "execution_count": 23,
      "outputs": [
        {
          "output_type": "stream",
          "name": "stdout",
          "text": [
            "[[  0   1   2   3   0   1   2   3]\n",
            " [  4   5   6   7   4   5   6   7]\n",
            " [  8   9  10  11   8   9  10  11]\n",
            " [ 12  13  14  15  12  13  14  15]\n",
            " [  0  -1  -2  -3   0  -1  -2  -3]\n",
            " [ -4  -5  -6  -7  -4  -5  -6  -7]\n",
            " [ -8  -9 -10 -11  -8  -9 -10 -11]\n",
            " [-12 -13 -14 -15 -12 -13 -14 -15]]\n"
          ]
        }
      ]
    },
    {
      "cell_type": "code",
      "source": [
        "#Passo 3\n",
        "#3. Concatene em profundidade três cópias do array resultante do passo anterior, exibindo o formato final.\n",
        "\n",
        "deep_stack = np.dstack((row_wise,row_wise,row_wise))\n",
        "print(deep_stack)"
      ],
      "metadata": {
        "id": "IMUqR1Jfafs7",
        "outputId": "311d0148-4311-4130-8297-3f84b39cc8cd",
        "colab": {
          "base_uri": "https://localhost:8080/"
        }
      },
      "execution_count": 24,
      "outputs": [
        {
          "output_type": "stream",
          "name": "stdout",
          "text": [
            "[[[  0   0   0]\n",
            "  [  1   1   1]\n",
            "  [  2   2   2]\n",
            "  [  3   3   3]]\n",
            "\n",
            " [[  4   4   4]\n",
            "  [  5   5   5]\n",
            "  [  6   6   6]\n",
            "  [  7   7   7]]\n",
            "\n",
            " [[  8   8   8]\n",
            "  [  9   9   9]\n",
            "  [ 10  10  10]\n",
            "  [ 11  11  11]]\n",
            "\n",
            " [[ 12  12  12]\n",
            "  [ 13  13  13]\n",
            "  [ 14  14  14]\n",
            "  [ 15  15  15]]\n",
            "\n",
            " [[  0   0   0]\n",
            "  [ -1  -1  -1]\n",
            "  [ -2  -2  -2]\n",
            "  [ -3  -3  -3]]\n",
            "\n",
            " [[ -4  -4  -4]\n",
            "  [ -5  -5  -5]\n",
            "  [ -6  -6  -6]\n",
            "  [ -7  -7  -7]]\n",
            "\n",
            " [[ -8  -8  -8]\n",
            "  [ -9  -9  -9]\n",
            "  [-10 -10 -10]\n",
            "  [-11 -11 -11]]\n",
            "\n",
            " [[-12 -12 -12]\n",
            "  [-13 -13 -13]\n",
            "  [-14 -14 -14]\n",
            "  [-15 -15 -15]]]\n"
          ]
        }
      ]
    },
    {
      "cell_type": "code",
      "source": [
        "deep_stack.shape"
      ],
      "metadata": {
        "colab": {
          "base_uri": "https://localhost:8080/"
        },
        "id": "9I5FGXuScYMC",
        "outputId": "8bc0bd2f-4bd4-42d7-9086-28f0293f2f56"
      },
      "execution_count": 25,
      "outputs": [
        {
          "output_type": "execute_result",
          "data": {
            "text/plain": [
              "(8, 4, 3)"
            ]
          },
          "metadata": {},
          "execution_count": 25
        }
      ]
    },
    {
      "cell_type": "markdown",
      "metadata": {
        "id": "EqJGutyuqOQP"
      },
      "source": [
        "9 - Utilize o array do passo 1 da questão anterior e transforme os valores da segunda e terceira colunas em 1."
      ]
    },
    {
      "cell_type": "code",
      "execution_count": 47,
      "metadata": {
        "id": "TqhdooB0qOXv"
      },
      "outputs": [],
      "source": [
        "# Insira a resposta abaixo.\n",
        "nova= teste"
      ]
    },
    {
      "cell_type": "code",
      "source": [
        "um_um =teste[:,1:3] /  teste[:,1:3]\n",
        "print(um_um)"
      ],
      "metadata": {
        "colab": {
          "base_uri": "https://localhost:8080/"
        },
        "id": "w3aXG1YNzdir",
        "outputId": "12c01639-7b8d-44ee-ae5b-2a726824b66d"
      },
      "execution_count": 27,
      "outputs": [
        {
          "output_type": "stream",
          "name": "stdout",
          "text": [
            "[[1. 1.]\n",
            " [1. 1.]\n",
            " [1. 1.]\n",
            " [1. 1.]]\n"
          ]
        }
      ]
    },
    {
      "cell_type": "code",
      "source": [
        "col_1 =teste[:,0:1]\n",
        "print(col_1)"
      ],
      "metadata": {
        "colab": {
          "base_uri": "https://localhost:8080/"
        },
        "id": "D4p6KD_Q0J5u",
        "outputId": "78e71de1-e667-494b-dc0b-2ae7023ad025"
      },
      "execution_count": 28,
      "outputs": [
        {
          "output_type": "stream",
          "name": "stdout",
          "text": [
            "[[ 0]\n",
            " [ 4]\n",
            " [ 8]\n",
            " [12]]\n"
          ]
        }
      ]
    },
    {
      "cell_type": "code",
      "source": [
        "col_4 = teste[:,3:4]\n",
        "print(col_4)"
      ],
      "metadata": {
        "colab": {
          "base_uri": "https://localhost:8080/"
        },
        "id": "WXitDIcQ0nE1",
        "outputId": "7b107b4c-cefe-4bb6-b580-503e2ec37bb3"
      },
      "execution_count": 29,
      "outputs": [
        {
          "output_type": "stream",
          "name": "stdout",
          "text": [
            "[[ 3]\n",
            " [ 7]\n",
            " [11]\n",
            " [15]]\n"
          ]
        }
      ]
    },
    {
      "cell_type": "code",
      "source": [
        "juntar = np.hstack((col_1,um_um,col_4))\n",
        "print(juntar)"
      ],
      "metadata": {
        "colab": {
          "base_uri": "https://localhost:8080/"
        },
        "id": "85EAMclJ0_-K",
        "outputId": "228a38f0-28c8-4ecf-f1e3-a1ed15afe6f6"
      },
      "execution_count": 30,
      "outputs": [
        {
          "output_type": "stream",
          "name": "stdout",
          "text": [
            "[[ 0.  1.  1.  3.]\n",
            " [ 4.  1.  1.  7.]\n",
            " [ 8.  1.  1. 11.]\n",
            " [12.  1.  1. 15.]]\n"
          ]
        }
      ]
    },
    {
      "cell_type": "code",
      "source": [
        " teste[:, 1:3] = 1 #pesquisado\n",
        "print(teste)"
      ],
      "metadata": {
        "colab": {
          "base_uri": "https://localhost:8080/"
        },
        "id": "ts1MHUzj3RG3",
        "outputId": "9d96ee5d-b319-4398-94e3-84d8694020d4"
      },
      "execution_count": 31,
      "outputs": [
        {
          "output_type": "stream",
          "name": "stdout",
          "text": [
            "[[ 0  1  1  3]\n",
            " [ 4  1  1  7]\n",
            " [ 8  1  1 11]\n",
            " [12  1  1 15]]\n"
          ]
        }
      ]
    },
    {
      "cell_type": "markdown",
      "metadata": {
        "id": "f0MyTxFXroNr"
      },
      "source": [
        "10 - Adicione 2.5 a todos os valores presentes no array resultante da etapa anterior."
      ]
    },
    {
      "cell_type": "code",
      "execution_count": 32,
      "metadata": {
        "id": "kgfy9kHEroVi",
        "colab": {
          "base_uri": "https://localhost:8080/"
        },
        "outputId": "06969002-ef3c-4c08-c9bd-f7df10956db0"
      },
      "outputs": [
        {
          "output_type": "execute_result",
          "data": {
            "text/plain": [
              "(4, 4)"
            ]
          },
          "metadata": {},
          "execution_count": 32
        }
      ],
      "source": [
        "juntar.shape"
      ]
    },
    {
      "cell_type": "code",
      "source": [
        "dois_meio = np.full((4,4), 2.5)\n",
        "print(dois_meio)"
      ],
      "metadata": {
        "colab": {
          "base_uri": "https://localhost:8080/"
        },
        "id": "jyZT_RiNBzPD",
        "outputId": "a8f70fc7-3111-4f51-a109-67756d51f041"
      },
      "execution_count": 33,
      "outputs": [
        {
          "output_type": "stream",
          "name": "stdout",
          "text": [
            "[[2.5 2.5 2.5 2.5]\n",
            " [2.5 2.5 2.5 2.5]\n",
            " [2.5 2.5 2.5 2.5]\n",
            " [2.5 2.5 2.5 2.5]]\n"
          ]
        }
      ]
    },
    {
      "cell_type": "code",
      "source": [
        "soma_dois_meio = dois_meio + teste\n",
        "print(soma_dois_meio)"
      ],
      "metadata": {
        "colab": {
          "base_uri": "https://localhost:8080/"
        },
        "id": "bQ2mnqPXC4FT",
        "outputId": "0cbfa60a-3bbb-4038-c918-0bb87d22b7b6"
      },
      "execution_count": 34,
      "outputs": [
        {
          "output_type": "stream",
          "name": "stdout",
          "text": [
            "[[ 2.5  3.5  3.5  5.5]\n",
            " [ 6.5  3.5  3.5  9.5]\n",
            " [10.5  3.5  3.5 13.5]\n",
            " [14.5  3.5  3.5 17.5]]\n"
          ]
        }
      ]
    },
    {
      "cell_type": "markdown",
      "metadata": {
        "id": "zyQGpUvQiNW-"
      },
      "source": [
        "11 - Realize as seguintes operações:\n",
        "1. Crie uma matriz com valor 3 em todas as posições com dimensionalidade (4, 2).\n",
        "2. Crie uma matriz identidade de dimensionalidade (4, 4).\n",
        "3. Compute o produto entre a transposta da primeira matriz e a matriz identidade, apresentando o resultado final."
      ]
    },
    {
      "cell_type": "code",
      "execution_count": 35,
      "metadata": {
        "id": "ncBYLgsSiNdm",
        "colab": {
          "base_uri": "https://localhost:8080/"
        },
        "outputId": "05dd0382-27cf-4447-ba3f-c8ab639bafea"
      },
      "outputs": [
        {
          "output_type": "stream",
          "name": "stdout",
          "text": [
            "[[3 3]\n",
            " [3 3]\n",
            " [3 3]\n",
            " [3 3]]\n"
          ]
        }
      ],
      "source": [
        "# Insira a resposta abaixo.\n",
        "\n",
        "# Passo 1\n",
        "quatro_20 = np.full((2,4), 3)\n",
        "transposta = quatro_20.T\n",
        "print(transposta)\n"
      ]
    },
    {
      "cell_type": "code",
      "source": [
        "# Passo 2\n",
        "quatro_quatro = np.eye(4)\n",
        "print(quatro_quatro)"
      ],
      "metadata": {
        "colab": {
          "base_uri": "https://localhost:8080/"
        },
        "id": "jKl9DkcmEA9M",
        "outputId": "44da3699-e787-42db-f04b-01c74ca29cd8"
      },
      "execution_count": 36,
      "outputs": [
        {
          "output_type": "stream",
          "name": "stdout",
          "text": [
            "[[1. 0. 0. 0.]\n",
            " [0. 1. 0. 0.]\n",
            " [0. 0. 1. 0.]\n",
            " [0. 0. 0. 1.]]\n"
          ]
        }
      ]
    },
    {
      "cell_type": "code",
      "source": [
        "expansao = np.tile(transposta, (1, 2))"
      ],
      "metadata": {
        "id": "kLXYR3dCLR-X"
      },
      "execution_count": 37,
      "outputs": []
    },
    {
      "cell_type": "code",
      "source": [
        "# Passo 3\n",
        "resultado = expansao * quatro_quatro\n",
        "print(resultado)"
      ],
      "metadata": {
        "colab": {
          "base_uri": "https://localhost:8080/"
        },
        "id": "8r9AYyOdECRl",
        "outputId": "3fa6ddce-8ee4-423f-e440-80c1353da3c8"
      },
      "execution_count": 38,
      "outputs": [
        {
          "output_type": "stream",
          "name": "stdout",
          "text": [
            "[[3. 0. 0. 0.]\n",
            " [0. 3. 0. 0.]\n",
            " [0. 0. 3. 0.]\n",
            " [0. 0. 0. 3.]]\n"
          ]
        }
      ]
    },
    {
      "cell_type": "markdown",
      "metadata": {
        "id": "HxFz7WugiOiT"
      },
      "source": [
        "12 - Realize as seguintes operações:\n",
        "1. Crie uma nova matriz de valores inteiros de 25 até 49 com dimensionalidade (5,5).\n",
        "2. Crie uma nova matriz com valores uniformemente espaçados entre 0 e 1 e defina a sua dimensionalidade em (5,1).\n",
        "3. Concatene horizontalmente as duas matrizes criadas anteriormente."
      ]
    },
    {
      "cell_type": "code",
      "execution_count": 39,
      "metadata": {
        "id": "nzxfA0UNZ9Fv",
        "colab": {
          "base_uri": "https://localhost:8080/"
        },
        "outputId": "47f1b57d-60e1-44f2-bde5-875188ae287f"
      },
      "outputs": [
        {
          "output_type": "stream",
          "name": "stdout",
          "text": [
            "[[25 26 27 28 29]\n",
            " [30 31 32 33 34]\n",
            " [35 36 37 38 39]\n",
            " [40 41 42 43 44]\n",
            " [45 46 47 48 49]]\n"
          ]
        }
      ],
      "source": [
        "# Insira a resposta abaixo.\n",
        "\n",
        "# Passo 1\n",
        "vinte5 = np.arange(25,50).reshape(5,5)\n",
        "\n",
        "print(vinte5)\n"
      ]
    },
    {
      "cell_type": "code",
      "source": [
        "# Passo 2\n",
        "aleatorio = np.random.random((5,1))\n",
        "aleatorio"
      ],
      "metadata": {
        "colab": {
          "base_uri": "https://localhost:8080/"
        },
        "id": "UH_r9qt_OJzH",
        "outputId": "db6c7aad-e7f1-41f3-8a2e-9bfa3cd28075"
      },
      "execution_count": 40,
      "outputs": [
        {
          "output_type": "execute_result",
          "data": {
            "text/plain": [
              "array([[0.86144684],\n",
              "       [0.19617683],\n",
              "       [0.37827282],\n",
              "       [0.93646759],\n",
              "       [0.29225752]])"
            ]
          },
          "metadata": {},
          "execution_count": 40
        }
      ]
    },
    {
      "cell_type": "code",
      "source": [
        "concatenado = np.hstack((vinte5,aleatorio))\n",
        "print(concatenado)"
      ],
      "metadata": {
        "colab": {
          "base_uri": "https://localhost:8080/"
        },
        "id": "EHrxH5YfOhMq",
        "outputId": "c27a4689-d9d0-4d52-94fd-cdfe96dfa632"
      },
      "execution_count": 41,
      "outputs": [
        {
          "output_type": "stream",
          "name": "stdout",
          "text": [
            "[[25.         26.         27.         28.         29.          0.86144684]\n",
            " [30.         31.         32.         33.         34.          0.19617683]\n",
            " [35.         36.         37.         38.         39.          0.37827282]\n",
            " [40.         41.         42.         43.         44.          0.93646759]\n",
            " [45.         46.         47.         48.         49.          0.29225752]]\n"
          ]
        }
      ]
    },
    {
      "cell_type": "markdown",
      "metadata": {
        "id": "6897aBLlcw8E"
      },
      "source": [
        "13 - Crie uma nova matriz com dimensionalidade (5,1) com números uniformemente espaçados utilizando um espaço logarítmico ao invés de um espaço linear."
      ]
    },
    {
      "cell_type": "code",
      "execution_count": 56,
      "metadata": {
        "id": "bUZNJgYHcxKR",
        "colab": {
          "base_uri": "https://localhost:8080/"
        },
        "outputId": "175c5f27-0130-4f0a-81ca-5580fee536b0"
      },
      "outputs": [
        {
          "output_type": "stream",
          "name": "stdout",
          "text": [
            "Help on _ArrayFunctionDispatcher in module numpy:\n",
            "\n",
            "logspace(start, stop, num=50, endpoint=True, base=10.0, dtype=None, axis=0)\n",
            "    Return numbers spaced evenly on a log scale.\n",
            "\n",
            "    In linear space, the sequence starts at ``base ** start``\n",
            "    (`base` to the power of `start`) and ends with ``base ** stop``\n",
            "    (see `endpoint` below).\n",
            "\n",
            "    .. versionchanged:: 1.16.0\n",
            "        Non-scalar `start` and `stop` are now supported.\n",
            "\n",
            "    .. versionchanged:: 1.25.0\n",
            "        Non-scalar 'base` is now supported\n",
            "\n",
            "    Parameters\n",
            "    ----------\n",
            "    start : array_like\n",
            "        ``base ** start`` is the starting value of the sequence.\n",
            "    stop : array_like\n",
            "        ``base ** stop`` is the final value of the sequence, unless `endpoint`\n",
            "        is False.  In that case, ``num + 1`` values are spaced over the\n",
            "        interval in log-space, of which all but the last (a sequence of\n",
            "        length `num`) are returned.\n",
            "    num : integer, optional\n",
            "        Number of samples to generate.  Default is 50.\n",
            "    endpoint : boolean, optional\n",
            "        If true, `stop` is the last sample. Otherwise, it is not included.\n",
            "        Default is True.\n",
            "    base : array_like, optional\n",
            "        The base of the log space. The step size between the elements in\n",
            "        ``ln(samples) / ln(base)`` (or ``log_base(samples)``) is uniform.\n",
            "        Default is 10.0.\n",
            "    dtype : dtype\n",
            "        The type of the output array.  If `dtype` is not given, the data type\n",
            "        is inferred from `start` and `stop`. The inferred type will never be\n",
            "        an integer; `float` is chosen even if the arguments would produce an\n",
            "        array of integers.\n",
            "    axis : int, optional\n",
            "        The axis in the result to store the samples.  Relevant only if start,\n",
            "        stop, or base are array-like.  By default (0), the samples will be\n",
            "        along a new axis inserted at the beginning. Use -1 to get an axis at\n",
            "        the end.\n",
            "\n",
            "        .. versionadded:: 1.16.0\n",
            "\n",
            "\n",
            "    Returns\n",
            "    -------\n",
            "    samples : ndarray\n",
            "        `num` samples, equally spaced on a log scale.\n",
            "\n",
            "    See Also\n",
            "    --------\n",
            "    arange : Similar to linspace, with the step size specified instead of the\n",
            "             number of samples. Note that, when used with a float endpoint, the\n",
            "             endpoint may or may not be included.\n",
            "    linspace : Similar to logspace, but with the samples uniformly distributed\n",
            "               in linear space, instead of log space.\n",
            "    geomspace : Similar to logspace, but with endpoints specified directly.\n",
            "    :ref:`how-to-partition`\n",
            "\n",
            "    Notes\n",
            "    -----\n",
            "    If base is a scalar, logspace is equivalent to the code\n",
            "\n",
            "    >>> y = np.linspace(start, stop, num=num, endpoint=endpoint)\n",
            "    ... # doctest: +SKIP\n",
            "    >>> power(base, y).astype(dtype)\n",
            "    ... # doctest: +SKIP\n",
            "\n",
            "    Examples\n",
            "    --------\n",
            "    >>> np.logspace(2.0, 3.0, num=4)\n",
            "    array([ 100.        ,  215.443469  ,  464.15888336, 1000.        ])\n",
            "    >>> np.logspace(2.0, 3.0, num=4, endpoint=False)\n",
            "    array([100.        ,  177.827941  ,  316.22776602,  562.34132519])\n",
            "    >>> np.logspace(2.0, 3.0, num=4, base=2.0)\n",
            "    array([4.        ,  5.0396842 ,  6.34960421,  8.        ])\n",
            "    >>> np.logspace(2.0, 3.0, num=4, base=[2.0, 3.0], axis=-1)\n",
            "    array([[ 4.        ,  5.0396842 ,  6.34960421,  8.        ],\n",
            "           [ 9.        , 12.98024613, 18.72075441, 27.        ]])\n",
            "\n",
            "    Graphical illustration:\n",
            "\n",
            "    >>> import matplotlib.pyplot as plt\n",
            "    >>> N = 10\n",
            "    >>> x1 = np.logspace(0.1, 1, N, endpoint=True)\n",
            "    >>> x2 = np.logspace(0.1, 1, N, endpoint=False)\n",
            "    >>> y = np.zeros(N)\n",
            "    >>> plt.plot(x1, y, 'o')\n",
            "    [<matplotlib.lines.Line2D object at 0x...>]\n",
            "    >>> plt.plot(x2, y + 0.5, 'o')\n",
            "    [<matplotlib.lines.Line2D object at 0x...>]\n",
            "    >>> plt.ylim([-0.5, 1])\n",
            "    (-0.5, 1)\n",
            "    >>> plt.show()\n",
            "\n"
          ]
        }
      ],
      "source": [
        "help(np.logspace)"
      ]
    },
    {
      "cell_type": "code",
      "source": [
        "começo = 0\n",
        "parada = 1\n",
        "num = 5\n",
        "espaçada = np.logspace(começo, parada, 5).reshape(5, 1)\n",
        "\n",
        "\n",
        "print(espaçada)"
      ],
      "metadata": {
        "colab": {
          "base_uri": "https://localhost:8080/"
        },
        "id": "nxKN41eC8pYe",
        "outputId": "7f263026-5622-41ad-b89a-63622242eb77"
      },
      "execution_count": 60,
      "outputs": [
        {
          "output_type": "stream",
          "name": "stdout",
          "text": [
            "[[ 1.        ]\n",
            " [ 1.77827941]\n",
            " [ 3.16227766]\n",
            " [ 5.62341325]\n",
            " [10.        ]]\n"
          ]
        }
      ]
    },
    {
      "cell_type": "markdown",
      "metadata": {
        "id": "R-V4DIT5k3db"
      },
      "source": [
        "14 - Crie uma função que receba um array e adicione uma borda composta de zeros nos quatro lados do array. Utilize o array resultante da questão anterior para testar o método criado."
      ]
    },
    {
      "cell_type": "code",
      "execution_count": 77,
      "metadata": {
        "id": "jCPkpBUfiQvF"
      },
      "outputs": [],
      "source": [
        "# Insira a resposta abaixo.\n",
        "def borda_zeros(matriz):\n",
        "  bordado = np.pad(matriz, pad_width=1, mode='constant', constant_values=0) #pesquisei a função np.pad\n",
        "  return bordado\n"
      ]
    },
    {
      "cell_type": "code",
      "source": [
        "borda_zeros(espaçada)"
      ],
      "metadata": {
        "colab": {
          "base_uri": "https://localhost:8080/"
        },
        "id": "VAFfsMfQABUU",
        "outputId": "99c17839-a114-45c8-b9bc-e6ff52f4a499"
      },
      "execution_count": 78,
      "outputs": [
        {
          "output_type": "execute_result",
          "data": {
            "text/plain": [
              "array([[ 0.        ,  0.        ,  0.        ],\n",
              "       [ 0.        ,  1.        ,  0.        ],\n",
              "       [ 0.        ,  1.77827941,  0.        ],\n",
              "       [ 0.        ,  3.16227766,  0.        ],\n",
              "       [ 0.        ,  5.62341325,  0.        ],\n",
              "       [ 0.        , 10.        ,  0.        ],\n",
              "       [ 0.        ,  0.        ,  0.        ]])"
            ]
          },
          "metadata": {},
          "execution_count": 78
        }
      ]
    },
    {
      "cell_type": "markdown",
      "metadata": {
        "id": "pfhKurRymAve"
      },
      "source": [
        "15 - Crie um array de 36 números aleatórios oriundos de uma distribuição normal. Exiba o valor máximo, mínimo, a média e o desvio padrão desse array."
      ]
    },
    {
      "cell_type": "code",
      "execution_count": 75,
      "metadata": {
        "id": "ocDrzobIlEFE",
        "colab": {
          "base_uri": "https://localhost:8080/"
        },
        "outputId": "c8dd8caa-b196-4ef3-a60d-2b89ae9ec0df"
      },
      "outputs": [
        {
          "output_type": "stream",
          "name": "stdout",
          "text": [
            "[[-0.62699781  0.69665358  0.83072018  0.17560879  0.68494219  0.27736855]\n",
            " [-2.36716096 -1.87085318 -1.03310644 -0.42290242 -0.91261419 -2.39896053]\n",
            " [-0.3345874  -1.63876382  0.76106684  0.72305426 -0.28288658 -0.29757476]\n",
            " [-0.63702604 -0.26891443 -0.77210238  0.82184575  0.50011354  1.70554667]\n",
            " [-0.48940999 -0.27334666 -0.4740225  -1.35615767 -0.4375977  -0.65331674]\n",
            " [ 1.01029518  3.50390449  0.62069721 -1.10462072  1.94132552 -0.45137739]]\n",
            "\n",
            " seu ponto max: 3.504 \n",
            " seu ponto min: -2.399 \n",
            " sua média: -0.135 \n",
            " seu desvio padrão: 1.170\n"
          ]
        }
      ],
      "source": [
        "# Insira a resposta abaixo.\n",
        "array36 = np.random.normal(0,1, (6, 6))\n",
        "print(array36)\n",
        "\n",
        "max36 = np.max(array36)\n",
        "min36 = np.min(array36)\n",
        "med36 = np.mean(array36)\n",
        "dp36 = np.std(array36)\n",
        "\n",
        "print(f'\\n seu ponto max: {max36:.3f} \\n seu ponto min: {min36:.3f} \\n sua média: {med36:.3f} \\n seu desvio padrão: {dp36:.3f}')"
      ]
    }
  ],
  "metadata": {
    "colab": {
      "provenance": []
    },
    "kernelspec": {
      "display_name": "Python 3 (ipykernel)",
      "language": "python",
      "name": "python3"
    },
    "language_info": {
      "codemirror_mode": {
        "name": "ipython",
        "version": 3
      },
      "file_extension": ".py",
      "mimetype": "text/x-python",
      "name": "python",
      "nbconvert_exporter": "python",
      "pygments_lexer": "ipython3",
      "version": "3.9.12"
    }
  },
  "nbformat": 4,
  "nbformat_minor": 0
}